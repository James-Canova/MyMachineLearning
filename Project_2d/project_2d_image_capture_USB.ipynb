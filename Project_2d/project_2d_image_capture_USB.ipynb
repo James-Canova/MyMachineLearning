{
 "cells": [
  {
   "cell_type": "code",
   "execution_count": 1,
   "metadata": {},
   "outputs": [],
   "source": [
    "#project_2d_image_capture_USB.ipynb\n",
    "\n",
    "#9 November 2021\n",
    "\n",
    "#James Canova\n",
    "#jscanova@gmail.com\n",
    "\n",
    "#based on:\n",
    "#https://stackoverflow.com/questions/46583138/how-to-capture-a-picture-in-opencv"
   ]
  },
  {
   "cell_type": "code",
   "execution_count": 5,
   "metadata": {},
   "outputs": [],
   "source": [
    "import cv2"
   ]
  },
  {
   "cell_type": "code",
   "execution_count": 6,
   "metadata": {},
   "outputs": [
    {
     "name": "stdout",
     "output_type": "stream",
     "text": [
      "Camera opened\n"
     ]
    }
   ],
   "source": [
    "cap = cv2.VideoCapture(1)\n",
    "\n",
    "if cap.isOpened():\n",
    "    print(\"Camera opened\")\n",
    "else:\n",
    "    print(\"Unable to open camera\")  "
   ]
  },
  {
   "cell_type": "code",
   "execution_count": 7,
   "metadata": {},
   "outputs": [],
   "source": [
    "if cap.isOpened():\n",
    "\n",
    "    while True:\n",
    "\n",
    "        ret, frame = cap.read()\n",
    "    \n",
    "        if not ret:\n",
    "            print(\"No frame returned, exiting ...\")\n",
    "            break\n",
    "        \n",
    "        else:\n",
    "            \n",
    "            rgb = cv2.cvtColor(frame, cv2.COLOR_BGR2BGRA)\n",
    "\n",
    "            cv2.imshow('frame', rgb)\n",
    "\n",
    "            if cv2.waitKey(1) & 0xFF == ord('q'):\n",
    "                out = cv2.imwrite('myCapture.jpg', frame)\n",
    "                break\n",
    "\n",
    "else:\n",
    "\n",
    "    print(\"Unable to open camera.\")  \n",
    "    \n",
    "cap.release()\n",
    "cv2.destroyAllWindows()"
   ]
  }
 ],
 "metadata": {
  "kernelspec": {
   "display_name": "Python 3",
   "language": "python",
   "name": "python3"
  },
  "language_info": {
   "codemirror_mode": {
    "name": "ipython",
    "version": 3
   },
   "file_extension": ".py",
   "mimetype": "text/x-python",
   "name": "python",
   "nbconvert_exporter": "python",
   "pygments_lexer": "ipython3",
   "version": "3.6.9"
  }
 },
 "nbformat": 4,
 "nbformat_minor": 2
}
