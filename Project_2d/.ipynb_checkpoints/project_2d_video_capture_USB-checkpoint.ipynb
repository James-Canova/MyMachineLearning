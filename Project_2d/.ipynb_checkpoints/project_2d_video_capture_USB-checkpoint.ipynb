{
 "cells": [
  {
   "cell_type": "code",
   "execution_count": 1,
   "metadata": {},
   "outputs": [],
   "source": [
    "#project_2d_video_capture_USB.ipynb\n",
    "\n",
    "#8 November 2021\n",
    "\n",
    "#James Canova\n",
    "#jscanova@gmail.com\n",
    "\n",
    "#based on the Udemy online course:\n",
    "# Python for Computer Vision with OpenCV and Deep Learning\n",
    "# Section 5: Video Basics with Python and OpenCV\n",
    "# lesson 36: Connecting to Camera "
   ]
  },
  {
   "cell_type": "code",
   "execution_count": 2,
   "metadata": {},
   "outputs": [],
   "source": [
    "import cv2"
   ]
  },
  {
   "cell_type": "code",
   "execution_count": 3,
   "metadata": {},
   "outputs": [
    {
     "name": "stdout",
     "output_type": "stream",
     "text": [
      "Camera opened\n"
     ]
    }
   ],
   "source": [
    "cap = cv2.VideoCapture(1)\n",
    "\n",
    "if cap.isOpened():\n",
    "    print(\"Camera opened\")\n",
    "else:\n",
    "    print(\"Unable to open camera\") "
   ]
  },
  {
   "cell_type": "code",
   "execution_count": 4,
   "metadata": {},
   "outputs": [],
   "source": [
    "width = int(cap.get(cv2.CAP_PROP_FRAME_WIDTH))\n",
    "\n",
    "height = int(cap.get(cv2.CAP_PROP_FRAME_HEIGHT))"
   ]
  },
  {
   "cell_type": "code",
   "execution_count": 5,
   "metadata": {},
   "outputs": [],
   "source": [
    "fourcc = cv2.VideoWriter_fourcc(*'XVID')\n",
    "\n",
    "fps = 20"
   ]
  },
  {
   "cell_type": "code",
   "execution_count": 6,
   "metadata": {},
   "outputs": [],
   "source": [
    "writer = cv2.VideoWriter('myVideo.avi',fourcc,fps,(width,height))"
   ]
  },
  {
   "cell_type": "code",
   "execution_count": 7,
   "metadata": {},
   "outputs": [],
   "source": [
    "if cap.isOpened():\n",
    "\n",
    "    cv2.namedWindow(\"Capture\", cv2.WINDOW_AUTOSIZE)\n",
    "\n",
    "    while True:\n",
    "        \n",
    "        ret, frame = cap.read()\n",
    "        \n",
    "        cv2.imshow(\"Capture\", frame)\n",
    "        \n",
    "        writer.write(frame)\n",
    "        \n",
    "        if cv2.waitKey(1) & 0xFF == ord('q'):\n",
    "            \n",
    "            out = cv2.imwrite('myCapture.jpg', frame)\n",
    "            \n",
    "            break\n",
    "else:\n",
    "\n",
    "    print(\"Unable to open camera\")\n",
    "    \n",
    "\n",
    "cap.release()\n",
    "\n",
    "cv2.destroyAllWindows()"
   ]
  }
 ],
 "metadata": {
  "kernelspec": {
   "display_name": "Python 3",
   "language": "python",
   "name": "python3"
  },
  "language_info": {
   "codemirror_mode": {
    "name": "ipython",
    "version": 3
   },
   "file_extension": ".py",
   "mimetype": "text/x-python",
   "name": "python",
   "nbconvert_exporter": "python",
   "pygments_lexer": "ipython3",
   "version": "3.6.9"
  }
 },
 "nbformat": 4,
 "nbformat_minor": 2
}
